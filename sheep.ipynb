{
  "nbformat": 4,
  "nbformat_minor": 0,
  "metadata": {
    "colab": {
      "name": "sheep.ipynb",
      "version": "0.3.2",
      "provenance": [],
      "collapsed_sections": [],
      "include_colab_link": true
    },
    "kernelspec": {
      "name": "python2",
      "display_name": "Python 2"
    },
    "accelerator": "GPU"
  },
  "cells": [
    {
      "cell_type": "markdown",
      "metadata": {
        "id": "view-in-github",
        "colab_type": "text"
      },
      "source": [
        "<a href=\"https://colab.research.google.com/github/ykhoja/sheep/blob/master/sheep.ipynb\" target=\"_parent\"><img src=\"https://colab.research.google.com/assets/colab-badge.svg\" alt=\"Open In Colab\"/></a>"
      ]
    },
    {
      "cell_type": "code",
      "metadata": {
        "id": "JkdE69Qp-_hc",
        "colab_type": "code",
        "colab": {}
      },
      "source": [
        "from tensorflow.python.keras.applications import ResNet50\n",
        "from tensorflow.python.keras.models import Sequential\n",
        "from tensorflow.python.keras.layers import Dense, Flatten, GlobalAveragePooling2D\n",
        "from tensorflow.python.keras.applications.resnet50 import preprocess_input\n",
        "from tensorflow.python.keras.preprocessing.image import ImageDataGenerator"
      ],
      "execution_count": 0,
      "outputs": []
    },
    {
      "cell_type": "code",
      "metadata": {
        "id": "t74izpnV_09u",
        "colab_type": "code",
        "outputId": "f6c9b9d3-fa14-43cd-966b-c5aa6aae6adb",
        "colab": {
          "base_uri": "https://localhost:8080/",
          "height": 122
        }
      },
      "source": [
        "#Mounting Google Drive\n",
        "\n",
        "from google.colab import drive\n",
        "drive.mount('/content/gdrive')"
      ],
      "execution_count": 3,
      "outputs": [
        {
          "output_type": "stream",
          "text": [
            "Go to this URL in a browser: https://accounts.google.com/o/oauth2/auth?client_id=947318989803-6bn6qk8qdgf4n4g3pfee6491hc0brc4i.apps.googleusercontent.com&redirect_uri=urn%3Aietf%3Awg%3Aoauth%3A2.0%3Aoob&scope=email%20https%3A%2F%2Fwww.googleapis.com%2Fauth%2Fdocs.test%20https%3A%2F%2Fwww.googleapis.com%2Fauth%2Fdrive%20https%3A%2F%2Fwww.googleapis.com%2Fauth%2Fdrive.photos.readonly%20https%3A%2F%2Fwww.googleapis.com%2Fauth%2Fpeopleapi.readonly&response_type=code\n",
            "\n",
            "Enter your authorization code:\n",
            "··········\n",
            "Mounted at /content/gdrive\n"
          ],
          "name": "stdout"
        }
      ]
    },
    {
      "cell_type": "code",
      "metadata": {
        "id": "yl8uRMv5AFR-",
        "colab_type": "code",
        "outputId": "655e397c-bfe6-4a43-8873-c62689cea149",
        "colab": {
          "base_uri": "https://localhost:8080/",
          "height": 408
        }
      },
      "source": [
        "num_classes = 4\n",
        "\n",
        "my_new_model = Sequential()\n",
        "my_new_model.add(ResNet50(include_top=False, pooling='avg', weights='imagenet'))\n",
        "my_new_model.add(Dense(num_classes, activation='softmax'))\n",
        "\n",
        "# Say not to train first layer (ResNet) model. It is already trained\n",
        "my_new_model.layers[0].trainable = False\n",
        "\n",
        "my_new_model.compile(optimizer='Adam', loss='categorical_crossentropy', metrics=['accuracy'])\n",
        "\n",
        "image_size = 224\n",
        "data_generator = ImageDataGenerator(preprocessing_function=preprocess_input)\n",
        "\n",
        "\n",
        "train_generator = data_generator.flow_from_directory(\n",
        "        './gdrive/My Drive/datasets/sheep/train',\n",
        "        target_size=(image_size, image_size),\n",
        "        batch_size=40,\n",
        "        class_mode='categorical')\n",
        "\n",
        "validation_generator = data_generator.flow_from_directory(\n",
        "        './gdrive/My Drive/datasets/sheep/val',\n",
        "        target_size=(image_size, image_size),\n",
        "        batch_size=8,\n",
        "        class_mode='categorical')\n",
        "\n",
        "my_new_model.fit_generator(\n",
        "        train_generator,\n",
        "        steps_per_epoch=9,\n",
        "        validation_data=validation_generator,\n",
        "        validation_steps=5,\n",
        "        epochs=10)"
      ],
      "execution_count": 15,
      "outputs": [
        {
          "output_type": "stream",
          "text": [
            "Found 362 images belonging to 4 classes.\n",
            "Found 40 images belonging to 4 classes.\n",
            "Epoch 1/10\n",
            "9/9 [==============================] - 22s 2s/step - loss: 1.3414 - acc: 0.3509 - val_loss: 1.1626 - val_acc: 0.5500\n",
            "Epoch 2/10\n",
            "9/9 [==============================] - 3s 348ms/step - loss: 0.9287 - acc: 0.6988 - val_loss: 0.9986 - val_acc: 0.6750\n",
            "Epoch 3/10\n",
            "9/9 [==============================] - 3s 350ms/step - loss: 0.6261 - acc: 0.8137 - val_loss: 1.0646 - val_acc: 0.6750\n",
            "Epoch 4/10\n",
            "9/9 [==============================] - 3s 378ms/step - loss: 0.5102 - acc: 0.8389 - val_loss: 1.0381 - val_acc: 0.7500\n",
            "Epoch 5/10\n",
            "9/9 [==============================] - 3s 319ms/step - loss: 0.5022 - acc: 0.9049 - val_loss: 0.9937 - val_acc: 0.7750\n",
            "Epoch 6/10\n",
            "9/9 [==============================] - 3s 357ms/step - loss: 0.4003 - acc: 0.8820 - val_loss: 1.1418 - val_acc: 0.7500\n",
            "Epoch 7/10\n",
            "9/9 [==============================] - 3s 357ms/step - loss: 0.3372 - acc: 0.8975 - val_loss: 1.1206 - val_acc: 0.7500\n",
            "Epoch 8/10\n",
            "9/9 [==============================] - 4s 389ms/step - loss: 0.3040 - acc: 0.8972 - val_loss: 1.1055 - val_acc: 0.8000\n",
            "Epoch 9/10\n",
            "9/9 [==============================] - 3s 358ms/step - loss: 0.2724 - acc: 0.9161 - val_loss: 1.3247 - val_acc: 0.6750\n",
            "Epoch 10/10\n",
            "9/9 [==============================] - 3s 359ms/step - loss: 0.2889 - acc: 0.9286 - val_loss: 1.0383 - val_acc: 0.8000\n"
          ],
          "name": "stdout"
        },
        {
          "output_type": "execute_result",
          "data": {
            "text/plain": [
              "<tensorflow.python.keras.callbacks.History at 0x7fe856f54a10>"
            ]
          },
          "metadata": {
            "tags": []
          },
          "execution_count": 15
        }
      ]
    },
    {
      "cell_type": "code",
      "metadata": {
        "id": "m6oqM6RgamVr",
        "colab_type": "code",
        "outputId": "690d278f-cc66-47f7-9a99-e8efb9c81813",
        "colab": {
          "base_uri": "https://localhost:8080/",
          "height": 34
        }
      },
      "source": [
        "# serialize model to YAML\n",
        "model_yaml = my_new_model.to_yaml()\n",
        "with open(\"model.yaml\", \"w\") as yaml_file:\n",
        "    yaml_file.write(model_yaml)\n",
        "# serialize weights to HDF5\n",
        "my_new_model.save_weights(\"./gdrive/My Drive/BaaNet.h5\")\n",
        "print(\"Saved model to disk\")"
      ],
      "execution_count": 16,
      "outputs": [
        {
          "output_type": "stream",
          "text": [
            "Saved model to disk\n"
          ],
          "name": "stdout"
        }
      ]
    },
    {
      "cell_type": "code",
      "metadata": {
        "id": "samxuXBrw174",
        "colab_type": "code",
        "colab": {}
      },
      "source": [
        ""
      ],
      "execution_count": 0,
      "outputs": []
    }
  ]
}